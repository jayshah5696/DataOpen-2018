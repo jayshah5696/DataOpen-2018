{
 "cells": [
  {
   "cell_type": "code",
   "execution_count": 1,
   "metadata": {},
   "outputs": [
    {
     "name": "stdout",
     "output_type": "stream",
     "text": [
      "Populating the interactive namespace from numpy and matplotlib\n"
     ]
    }
   ],
   "source": [
    "import pandas as pd\n",
    "import matplotlib.pyplot as plt\n",
    "%pylab inline"
   ]
  },
  {
   "cell_type": "code",
   "execution_count": 2,
   "metadata": {},
   "outputs": [
    {
     "data": {
      "text/html": [
       "<div>\n",
       "<style scoped>\n",
       "    .dataframe tbody tr th:only-of-type {\n",
       "        vertical-align: middle;\n",
       "    }\n",
       "\n",
       "    .dataframe tbody tr th {\n",
       "        vertical-align: top;\n",
       "    }\n",
       "\n",
       "    .dataframe thead th {\n",
       "        text-align: right;\n",
       "    }\n",
       "</style>\n",
       "<table border=\"1\" class=\"dataframe\">\n",
       "  <thead>\n",
       "    <tr style=\"text-align: right;\">\n",
       "      <th></th>\n",
       "      <th>nta_name</th>\n",
       "      <th>borough</th>\n",
       "      <th>nta_code</th>\n",
       "      <th>population</th>\n",
       "      <th>under_5_years</th>\n",
       "      <th>5-9_years</th>\n",
       "      <th>10-14_years</th>\n",
       "      <th>15-19_years</th>\n",
       "      <th>20-24_years</th>\n",
       "      <th>25-29_years</th>\n",
       "      <th>...</th>\n",
       "      <th>15000_to_24999</th>\n",
       "      <th>25000_to_34999</th>\n",
       "      <th>35000_to_49999</th>\n",
       "      <th>50000_to_74999</th>\n",
       "      <th>75000_to_99999</th>\n",
       "      <th>100000_to_149999</th>\n",
       "      <th>150000_to_199999</th>\n",
       "      <th>200000_or_more</th>\n",
       "      <th>median_income</th>\n",
       "      <th>mean_income</th>\n",
       "    </tr>\n",
       "  </thead>\n",
       "  <tbody>\n",
       "    <tr>\n",
       "      <th>0</th>\n",
       "      <td>Allerton-Pelham Gardens</td>\n",
       "      <td>Bronx</td>\n",
       "      <td>BX31</td>\n",
       "      <td>28903</td>\n",
       "      <td>1679</td>\n",
       "      <td>1706</td>\n",
       "      <td>1763</td>\n",
       "      <td>2039</td>\n",
       "      <td>1964</td>\n",
       "      <td>1703</td>\n",
       "      <td>...</td>\n",
       "      <td>797</td>\n",
       "      <td>773</td>\n",
       "      <td>1160</td>\n",
       "      <td>1764</td>\n",
       "      <td>1155</td>\n",
       "      <td>1562</td>\n",
       "      <td>765</td>\n",
       "      <td>427</td>\n",
       "      <td>61638</td>\n",
       "      <td>78489</td>\n",
       "    </tr>\n",
       "    <tr>\n",
       "      <th>1</th>\n",
       "      <td>Annadale-Huguenot-Prince's Bay-Eltingville</td>\n",
       "      <td>Staten Island</td>\n",
       "      <td>SI01</td>\n",
       "      <td>27770</td>\n",
       "      <td>1397</td>\n",
       "      <td>1698</td>\n",
       "      <td>1817</td>\n",
       "      <td>1880</td>\n",
       "      <td>1720</td>\n",
       "      <td>1594</td>\n",
       "      <td>...</td>\n",
       "      <td>571</td>\n",
       "      <td>405</td>\n",
       "      <td>1008</td>\n",
       "      <td>1523</td>\n",
       "      <td>1346</td>\n",
       "      <td>2075</td>\n",
       "      <td>1086</td>\n",
       "      <td>1151</td>\n",
       "      <td>88288</td>\n",
       "      <td>109187</td>\n",
       "    </tr>\n",
       "    <tr>\n",
       "      <th>2</th>\n",
       "      <td>Arden Heights</td>\n",
       "      <td>Staten Island</td>\n",
       "      <td>SI48</td>\n",
       "      <td>25238</td>\n",
       "      <td>1507</td>\n",
       "      <td>1540</td>\n",
       "      <td>1596</td>\n",
       "      <td>1752</td>\n",
       "      <td>1614</td>\n",
       "      <td>1561</td>\n",
       "      <td>...</td>\n",
       "      <td>337</td>\n",
       "      <td>516</td>\n",
       "      <td>707</td>\n",
       "      <td>1421</td>\n",
       "      <td>1611</td>\n",
       "      <td>2021</td>\n",
       "      <td>1047</td>\n",
       "      <td>740</td>\n",
       "      <td>89570</td>\n",
       "      <td>101627</td>\n",
       "    </tr>\n",
       "    <tr>\n",
       "      <th>3</th>\n",
       "      <td>Astoria</td>\n",
       "      <td>Queens</td>\n",
       "      <td>QN70</td>\n",
       "      <td>78793</td>\n",
       "      <td>3480</td>\n",
       "      <td>3037</td>\n",
       "      <td>3060</td>\n",
       "      <td>3392</td>\n",
       "      <td>6630</td>\n",
       "      <td>11586</td>\n",
       "      <td>...</td>\n",
       "      <td>3673</td>\n",
       "      <td>2816</td>\n",
       "      <td>4725</td>\n",
       "      <td>6463</td>\n",
       "      <td>4557</td>\n",
       "      <td>4698</td>\n",
       "      <td>1627</td>\n",
       "      <td>1197</td>\n",
       "      <td>54882</td>\n",
       "      <td>70094</td>\n",
       "    </tr>\n",
       "    <tr>\n",
       "      <th>4</th>\n",
       "      <td>Auburndale</td>\n",
       "      <td>Queens</td>\n",
       "      <td>QN48</td>\n",
       "      <td>19996</td>\n",
       "      <td>917</td>\n",
       "      <td>966</td>\n",
       "      <td>1063</td>\n",
       "      <td>1168</td>\n",
       "      <td>1214</td>\n",
       "      <td>1307</td>\n",
       "      <td>...</td>\n",
       "      <td>445</td>\n",
       "      <td>632</td>\n",
       "      <td>690</td>\n",
       "      <td>1417</td>\n",
       "      <td>1060</td>\n",
       "      <td>1237</td>\n",
       "      <td>589</td>\n",
       "      <td>433</td>\n",
       "      <td>70772</td>\n",
       "      <td>84402</td>\n",
       "    </tr>\n",
       "  </tbody>\n",
       "</table>\n",
       "<p>5 rows × 33 columns</p>\n",
       "</div>"
      ],
      "text/plain": [
       "                                     nta_name        borough nta_code  \\\n",
       "0                     Allerton-Pelham Gardens          Bronx     BX31   \n",
       "1  Annadale-Huguenot-Prince's Bay-Eltingville  Staten Island     SI01   \n",
       "2                               Arden Heights  Staten Island     SI48   \n",
       "3                                     Astoria         Queens     QN70   \n",
       "4                                  Auburndale         Queens     QN48   \n",
       "\n",
       "   population  under_5_years  5-9_years  10-14_years  15-19_years  \\\n",
       "0       28903           1679       1706         1763         2039   \n",
       "1       27770           1397       1698         1817         1880   \n",
       "2       25238           1507       1540         1596         1752   \n",
       "3       78793           3480       3037         3060         3392   \n",
       "4       19996            917        966         1063         1168   \n",
       "\n",
       "   20-24_years  25-29_years     ...       15000_to_24999  25000_to_34999  \\\n",
       "0         1964         1703     ...                  797             773   \n",
       "1         1720         1594     ...                  571             405   \n",
       "2         1614         1561     ...                  337             516   \n",
       "3         6630        11586     ...                 3673            2816   \n",
       "4         1214         1307     ...                  445             632   \n",
       "\n",
       "   35000_to_49999  50000_to_74999  75000_to_99999  100000_to_149999  \\\n",
       "0            1160            1764            1155              1562   \n",
       "1            1008            1523            1346              2075   \n",
       "2             707            1421            1611              2021   \n",
       "3            4725            6463            4557              4698   \n",
       "4             690            1417            1060              1237   \n",
       "\n",
       "   150000_to_199999  200000_or_more  median_income  mean_income  \n",
       "0               765             427          61638        78489  \n",
       "1              1086            1151          88288       109187  \n",
       "2              1047             740          89570       101627  \n",
       "3              1627            1197          54882        70094  \n",
       "4               589             433          70772        84402  \n",
       "\n",
       "[5 rows x 33 columns]"
      ]
     },
     "execution_count": 2,
     "metadata": {},
     "output_type": "execute_result"
    }
   ],
   "source": [
    "dem = pd.read_csv('demographics.csv')\n",
    "dem.head()"
   ]
  },
  {
   "cell_type": "code",
   "execution_count": 3,
   "metadata": {},
   "outputs": [
    {
     "name": "stdout",
     "output_type": "stream",
     "text": [
      "Average income across all NTAs: 77808.8776596\n",
      "Average income across the 28 identified NTAs: 76048.6428571\n"
     ]
    }
   ],
   "source": [
    "print 'Average income across all NTAs:', dem['mean_income'].mean()\n",
    "print 'Average income across the 28 identified NTAs:', dem[dem['nta_code'].isin(pd.read_csv('NTAS_Uber_new_market.csv', index_col=0)['NTA Code'])]['mean_income'].mean()"
   ]
  },
  {
   "cell_type": "code",
   "execution_count": 4,
   "metadata": {},
   "outputs": [
    {
     "name": "stdout",
     "output_type": "stream",
     "text": [
      "Average age across all NTAs: 36.1223404255\n",
      "Average age across the 28 identified NTAs: 37.6428571429\n"
     ]
    }
   ],
   "source": [
    "print 'Average age across all NTAs:', dem['median_age'].mean()\n",
    "print 'Average age across the 28 identified NTAs:', dem[dem['nta_code'].isin(pd.read_csv('NTAS_Uber_new_market.csv', index_col=0)['NTA Code'])]['median_age'].mean()"
   ]
  },
  {
   "cell_type": "code",
   "execution_count": 7,
   "metadata": {},
   "outputs": [
    {
     "name": "stdout",
     "output_type": "stream",
     "text": [
      "Average population across all NTAs: 68.9468085106\n",
      "Average population across the 28 identified NTAs: 40.4321428571\n"
     ]
    }
   ],
   "source": [
    "print 'Average population across all NTAs:', dem['people_per_acre'].mean()\n",
    "print 'Average population across the 28 identified NTAs:', dem[dem['nta_code'].isin(pd.read_csv('NTAS_Uber_new_market.csv', index_col=0)['NTA Code'])]['people_per_acre'].mean()"
   ]
  }
 ],
 "metadata": {
  "kernelspec": {
   "display_name": "Python 2",
   "language": "python",
   "name": "python2"
  },
  "language_info": {
   "codemirror_mode": {
    "name": "ipython",
    "version": 2
   },
   "file_extension": ".py",
   "mimetype": "text/x-python",
   "name": "python",
   "nbconvert_exporter": "python",
   "pygments_lexer": "ipython2",
   "version": "2.7.14"
  }
 },
 "nbformat": 4,
 "nbformat_minor": 2
}
